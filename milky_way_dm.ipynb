{
 "cells": [
  {
   "cell_type": "code",
   "execution_count": 38,
   "metadata": {},
   "outputs": [
    {
     "data": {
      "image/png": "[encoded data removed]",
      "text/plain": [
       "<matplotlib.figure.Figure at 0x118b553c8>"
      ]
     },
     "metadata": {},
     "output_type": "display_data"
    }
   ],
   "source": [
    "import numpy as np\n",
    "import matplotlib.pyplot as plt\n",
    "from scipy.integrate import *\n",
    "from scipy import *\n",
    "import scipy as sp\n",
    "\n",
    "def Numerical():\n",
    "    #constants\n",
    "    G = (0.4)*(10**(-38)) #units: cubic-kpc / solarmass-s^2\n",
    "    \n",
    "    #Milky Way Properties:\n",
    "    Rdisk = 15 #kpc\n",
    "    hdisk = 0.3 #kpc\n",
    "    \n",
    "    \n",
    "    \n",
    "    #define R  as a linear space\n",
    "    R_min = 0.1\n",
    "    R_max = 100\n",
    "    R_step = 10000\n",
    "    R = np.linspace(R_min,R_max,R_step)\n",
    "    \n",
    "    \n",
    "    #NFW DM density profile\n",
    "    r0n = 25 #kpc\n",
    "    p0n = 5*(10**6) #units: solarmass/cubic-kpc\n",
    "    pNFW = p0n*(r0n/R)*((1+(R/r0n)))**(-2) #R = distance from galactic center\n",
    "    \n",
    "    #isothermal density profile:\n",
    "    r0iso = 5 #kpc\n",
    "    p0iso = 36.3*(10**6) #solar masses/cubic-kpc\n",
    "    piso = p0iso/ (1 + ((R/r0iso)**2)) \n",
    "    \n",
    "    J = 2*np.pi*R #The Jacodian for the integral\n",
    "    \n",
    "    U_NFW = J*pNFW #the integrand for NFW profile\n",
    "    U_iso = J*piso #integrand for isothermal profile\n",
    "    \n",
    "    #Mass\n",
    "    M_iso =  cumtrapz(U_iso, x=R, dx = R_step, initial = 0)\n",
    "    M_NFW = cumtrapz(U_NFW, x=R, dx = R_step, initial = 0)\n",
    "    \n",
    "    V_iso = np.sqrt((G*M_iso)/R)\n",
    "    V_NFW = np.sqrt((G*M_NFW)/R)\n",
    "    #visible mass, velocity of this mass in outer regions\n",
    "    #m_vis =1 #(5 * (10**43))\n",
    "    #v_vis = np.sqrt((G*m_vis)/R) \n",
    "    \n",
    "    #disk distribution\n",
    "    #Rd = 2 #scale length of disk, kpc\n",
    "    #rho_disk = Rho_0 * exp(-R/Rd) #distribution ON plane of disk\n",
    "    \n",
    "    #Rho_0/ ((1+(R/Rs)**2)**(3/2)) works well\n",
    "    \n",
    "    #Get Rho as a list\n",
    "    #Rho = Rho(R,params)\n",
    "    \n",
    "\n",
    "    #print(U)\n",
    "    #U_iso = J*Rho_iso\n",
    "    #U_disk = J*rho_disk\n",
    "    \n",
    "    \n",
    "    #Get the mass as a list\n",
    "    #requieres an integral\n",
    "    #M =  cumtrapz(U, x=R, dx = R_step, initial = 0)\n",
    "    #M_iso =  cumtrapz(U_iso, x=R, dx = R_step, initial = 0)\n",
    "    #M_disk = cumtrapz(U_disk, x=R, dx = R_step, initial = 0)\n",
    "    #M = M(Rho,R,params)\n",
    "    #print M\n",
    "    \n",
    "    #V = np.sqrt((G*M)/R)\n",
    "    \n",
    "    #V_tot = np.sqrt( (v_vis**2) + (V**2))\n",
    "    \n",
    "    #V_iso = np.sqrt( (G*M_iso)/R)\n",
    "    \n",
    "    #V_tot1 = np.sqrt( (V_iso**2) + (v_vis**2))\n",
    "    \n",
    "    #V_disk = np.sqrt( (G*M_disk)/R)\n",
    "    \n",
    "    #V_tot2 = np.sqrt( (V_iso**2) + (V_disk**2))\n",
    "    \n",
    "    plt.figure\n",
    "    #plt.plot(R,V)\n",
    "    #plt.plot(R,U)\n",
    "    #plt.plot(R,M)\n",
    "    \n",
    "    #group 1\n",
    "    #plt.plot(R,V_iso)\n",
    "    #plt.plot(R,v_vis)\n",
    "    #plt.plot(R,V_tot1)\n",
    "    \n",
    "    #plt.plot(R, V_disk)\n",
    "    #plt.plot(R,V_iso)\n",
    "   # plt.plot(R,V_tot2)\n",
    "    #plt.legend(['disk','iso distr.','total'])\n",
    "    \n",
    "    #new plots\n",
    "    plt.plot(R,V_iso)\n",
    "    plt.plot(R,V_NFW)\n",
    "    plt.legend(['iso','nfw'])\n",
    "    plt.show()\n",
    "\n",
    "if __name__ == '__Numerical__':\n",
    "    Numerical()\n",
    "Numerical()"
   ]
  },
  {
   "cell_type": "code",
   "execution_count": 36,
   "metadata": {},
   "outputs": [
    {
     "data": {
      "text/plain": [
       "0.18560258229679719"
      ]
     },
     "execution_count": 36,
     "metadata": {},
     "output_type": "execute_result"
    }
   ],
   "source": [
    "6.67/(3.3**3)"
   ]
  },
  {
   "cell_type": "code",
   "execution_count": 37,
   "metadata": {},
   "outputs": [
    {
     "data": {
      "text/plain": [
       "54"
      ]
     },
     "execution_count": 37,
     "metadata": {},
     "output_type": "execute_result"
    }
   ],
   "source": [
    "18*3\n"
   ]
  },
  {
   "cell_type": "code",
   "execution_count": null,
   "metadata": {
    "collapsed": true
   },
   "outputs": [],
   "source": []
  }
 ],
 "metadata": {
  "kernelspec": {
   "display_name": "Python 3",
   "language": "python",
   "name": "python3"
  },
  "language_info": {
   "codemirror_mode": {
    "name": "ipython",
    "version": 3
   },
   "file_extension": ".py",
   "mimetype": "text/x-python",
   "name": "python",
   "nbconvert_exporter": "python",
   "pygments_lexer": "ipython3",
   "version": "3.6.1"
  }
 },
 "nbformat": 4,
 "nbformat_minor": 2
}
