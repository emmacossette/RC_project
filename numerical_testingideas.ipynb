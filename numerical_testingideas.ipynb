{
 "cells": [
  {
   "cell_type": "code",
   "execution_count": 35,
   "metadata": {},
   "outputs": [
    {
     "data": {
      "image/png": "[encoded data removed]",
      "text/plain": [
       "<matplotlib.figure.Figure at 0x118790dd8>"
      ]
     },
     "metadata": {},
     "output_type": "display_data"
    }
   ],
   "source": [
    "import numpy as np\n",
    "import matplotlib.pyplot as plt\n",
    "from scipy.integrate import *\n",
    "from scipy import *\n",
    "import scipy as sp\n",
    "\n",
    "def Numerical():\n",
    "    alpha = 1\n",
    "    beta = 1\n",
    "    gamma = 1\n",
    "    Rho_0 = 1\n",
    "    Rs = 1\n",
    "    G = 1\n",
    "    params = [alpha,beta,gamma,Rho_0,Rs,G]\n",
    "\n",
    "   \n",
    "    #define R  as a linear space\n",
    "    R_min = 0.1\n",
    "    R_max = 100\n",
    "    R_step = 10000\n",
    "    R = np.linspace(R_min,R_max,R_step)\n",
    " #define the density profile\n",
    "    Rho =Rho_0/ ((1+(R/Rs)**2)**(3/2))\n",
    "    #Rho_0/ ( (R/Rs)**gamma * (1+(R/Rs)**alpha)**((beta-gamma)/alpha) ) Somethings worng with this one\n",
    "\n",
    "    Rho_iso = Rho_0/ (1 + ((R/Rs)**2)) \n",
    "    \n",
    "    \n",
    "    \n",
    "    #visible mass, velocity of this mass in outer regions\n",
    "    m_vis =1 #(5 * (10**43))\n",
    "    v_vis = np.sqrt((G*m_vis)/R) \n",
    "    \n",
    "    #disk distribution\n",
    "    Rd = 2 #scale length of disk, kpc\n",
    "    rho_disk = Rho_0 * exp(-R/Rd) #distribution ON plane of disk\n",
    "    \n",
    "    #Rho_0/ ((1+(R/Rs)**2)**(3/2)) works well\n",
    "    \n",
    "    #Get Rho as a list\n",
    "    #Rho = Rho(R,params)\n",
    "    \n",
    "    J = 2*np.pi*R #The Jacodian for the integral\n",
    "    U = J*Rho #the integrand \n",
    "    #print(U)\n",
    "    U_iso = J*Rho_iso\n",
    "    U_disk = J*rho_disk\n",
    "    \n",
    "    \n",
    "    #Get the mass as a list\n",
    "    #requieres an integral\n",
    "    M =  cumtrapz(U, x=R, dx = R_step, initial = 0)\n",
    "    M_iso =  cumtrapz(U_iso, x=R, dx = R_step, initial = 0)\n",
    "    M_disk = cumtrapz(U_disk, x=R, dx = R_step, initial = 0)\n",
    "    #M = M(Rho,R,params)\n",
    "    #print M\n",
    "    \n",
    "    V = np.sqrt((G*M)/R)\n",
    "    \n",
    "    V_tot = np.sqrt( (v_vis**2) + (V**2))\n",
    "    \n",
    "    V_iso = np.sqrt( (G*M_iso)/R)\n",
    "    \n",
    "    V_tot1 = np.sqrt( (V_iso**2) + (v_vis**2))\n",
    "    \n",
    "    V_disk = np.sqrt( (G*M_disk)/R)\n",
    "    \n",
    "    V_tot2 = np.sqrt( (V_iso**2) + (V_disk**2))\n",
    "    \n",
    "    plt.figure\n",
    "    #plt.plot(R,V)\n",
    "    #plt.plot(R,U)\n",
    "    #plt.plot(R,M)\n",
    "    \n",
    "    #group 1\n",
    "    #plt.plot(R,V_iso)\n",
    "    #plt.plot(R,v_vis)\n",
    "    #plt.plot(R,V_tot1)\n",
    "    \n",
    "    plt.plot(R, V_disk)\n",
    "    plt.plot(R,V_iso)\n",
    "    plt.plot(R,V_tot2)\n",
    "    plt.legend(['disk','iso distr.','total'])\n",
    "    \n",
    "    plt.show()\n",
    "\n",
    "if __name__ == '__Numerical__':\n",
    "    Numerical()\n",
    "Numerical()"
   ]
  },
  {
   "cell_type": "code",
   "execution_count": null,
   "metadata": {
    "collapsed": true
   },
   "outputs": [],
   "source": []
  },
  {
   "cell_type": "code",
   "execution_count": null,
   "metadata": {
    "collapsed": true
   },
   "outputs": [],
   "source": []
  }
 ],
 "metadata": {
  "kernelspec": {
   "display_name": "Python 3",
   "language": "python",
   "name": "python3"
  },
  "language_info": {
   "codemirror_mode": {
    "name": "ipython",
    "version": 3
   },
   "file_extension": ".py",
   "mimetype": "text/x-python",
   "name": "python",
   "nbconvert_exporter": "python",
   "pygments_lexer": "ipython3",
   "version": "3.6.1"
  }
 },
 "nbformat": 4,
 "nbformat_minor": 2
}
